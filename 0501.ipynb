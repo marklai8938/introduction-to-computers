{
  "nbformat": 4,
  "nbformat_minor": 0,
  "metadata": {
    "colab": {
      "provenance": [],
      "authorship_tag": "ABX9TyN8DBhSeiWqe+M8dW1Sy2va",
      "include_colab_link": true
    },
    "kernelspec": {
      "name": "python3",
      "display_name": "Python 3"
    },
    "language_info": {
      "name": "python"
    }
  },
  "cells": [
    {
      "cell_type": "markdown",
      "metadata": {
        "id": "view-in-github",
        "colab_type": "text"
      },
      "source": [
        "<a href=\"https://colab.research.google.com/github/marklai8938/introduction-to-computers/blob/main/0501.ipynb\" target=\"_parent\"><img src=\"https://colab.research.google.com/assets/colab-badge.svg\" alt=\"Open In Colab\"/></a>"
      ]
    },
    {
      "cell_type": "code",
      "execution_count": 8,
      "metadata": {
        "colab": {
          "base_uri": "https://localhost:8080/"
        },
        "id": "Xly28jlhXbTA",
        "outputId": "440efe18-8728-4a9d-e3d7-b13b5d3c881a"
      },
      "outputs": [
        {
          "output_type": "stream",
          "name": "stdout",
          "text": [
            "請輸入本金存款金額10000\n",
            "6年後的存款 11261.62419264\n"
          ]
        }
      ],
      "source": [
        "本金=int(input(\"請輸入本金存款金額\"))\n",
        "年 = 1.02 ** 6\n",
        "存款 = 本金 * 年\n",
        "print(\"6年後的存款\",存款)"
      ]
    },
    {
      "cell_type": "code",
      "source": [
        "print(\"Hello World\")"
      ],
      "metadata": {
        "colab": {
          "base_uri": "https://localhost:8080/"
        },
        "id": "LDn_Mvbraqty",
        "outputId": "3900d9bb-7675-4a17-c77b-441d8035b49f"
      },
      "execution_count": 10,
      "outputs": [
        {
          "output_type": "stream",
          "name": "stdout",
          "text": [
            "Hello World\n"
          ]
        }
      ]
    },
    {
      "cell_type": "code",
      "source": [
        "F = float(input(\"請輸入華氏\"))\n",
        "C = (F-32)*5/9\n",
        "print(\"%.1f\"%C)"
      ],
      "metadata": {
        "colab": {
          "base_uri": "https://localhost:8080/"
        },
        "id": "qNYlAdWga_x8",
        "outputId": "525244b9-265b-4ad2-e96e-b7d863b6eeb0"
      },
      "execution_count": 11,
      "outputs": [
        {
          "output_type": "stream",
          "name": "stdout",
          "text": [
            "請輸入華氏100\n",
            "37.8\n"
          ]
        }
      ]
    },
    {
      "cell_type": "code",
      "source": [
        "tmp = 0\n",
        "for i in range(1,6):\n",
        "  tmp +=i\n",
        "print(\"%d\"% tmp)"
      ],
      "metadata": {
        "colab": {
          "base_uri": "https://localhost:8080/"
        },
        "id": "FDvOErejb7XT",
        "outputId": "41d25eaf-6edd-4308-bbdd-9467a75744bb"
      },
      "execution_count": 14,
      "outputs": [
        {
          "output_type": "stream",
          "name": "stdout",
          "text": [
            "15\n"
          ]
        }
      ]
    }
  ]
}