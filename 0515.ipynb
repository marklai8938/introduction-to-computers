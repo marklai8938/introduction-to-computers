{
  "nbformat": 4,
  "nbformat_minor": 0,
  "metadata": {
    "colab": {
      "provenance": [],
      "authorship_tag": "ABX9TyNh+kKScveB9A/4PLcT4l+e",
      "include_colab_link": true
    },
    "kernelspec": {
      "name": "python3",
      "display_name": "Python 3"
    },
    "language_info": {
      "name": "python"
    }
  },
  "cells": [
    {
      "cell_type": "markdown",
      "metadata": {
        "id": "view-in-github",
        "colab_type": "text"
      },
      "source": [
        "<a href=\"https://colab.research.google.com/github/marklai8938/introduction-to-computers/blob/main/0515.ipynb\" target=\"_parent\"><img src=\"https://colab.research.google.com/assets/colab-badge.svg\" alt=\"Open In Colab\"/></a>"
      ]
    },
    {
      "cell_type": "code",
      "execution_count": 1,
      "metadata": {
        "colab": {
          "base_uri": "https://localhost:8080/"
        },
        "id": "M0af8lQEEfzx",
        "outputId": "057feedd-1c9e-4b3a-8aa6-1e9aebccabf1"
      },
      "outputs": [
        {
          "output_type": "stream",
          "name": "stdout",
          "text": [
            "0515\n"
          ]
        }
      ],
      "source": [
        "print(\"0515\")"
      ]
    },
    {
      "cell_type": "code",
      "source": [
        "rain = input(\"今天會下雨嗎\")\n",
        "if (rain==\"Y\" or rain==\"y\"):\n",
        "  print(\"出門記得帶傘!\")\n",
        "elif(rain==\"N\" or rain==\"n\"):\n",
        "  print(\"不用帶傘\")\n",
        "else:\n",
        "  print(\"請重新輸入\")"
      ],
      "metadata": {
        "colab": {
          "base_uri": "https://localhost:8080/"
        },
        "id": "yk9JZmtEF2Uo",
        "outputId": "c14f8b1e-6db0-47f3-98cf-087f1db9e797"
      },
      "execution_count": 5,
      "outputs": [
        {
          "output_type": "stream",
          "name": "stdout",
          "text": [
            "今天會下雨嗎n\n",
            "不用帶傘\n"
          ]
        }
      ]
    },
    {
      "cell_type": "code",
      "source": [
        "t = float(input(\"請輸入體溫\"))\n",
        "if( t>=37.5 ):\n",
        "  print(\"體溫過高\")\n",
        "elif(t<37.4 and t>37):\n",
        "  print(\"體溫略高\")\n",
        "elif(t<37 and t>33.9):\n",
        "  print(\"體溫正常\")\n",
        "elif(t<34):\n",
        "  print(\"體溫異常\")"
      ],
      "metadata": {
        "colab": {
          "base_uri": "https://localhost:8080/"
        },
        "id": "Ev9gtprwHJvK",
        "outputId": "a37db1fb-0aa7-495d-ffb4-73b32dd4ed3e"
      },
      "execution_count": 13,
      "outputs": [
        {
          "output_type": "stream",
          "name": "stdout",
          "text": [
            "請輸入體溫36.5\n",
            "體溫正常\n"
          ]
        }
      ]
    },
    {
      "cell_type": "code",
      "source": [
        "s = int(input(\"請輸入成績\"))\n",
        "if(s>=90):\n",
        "  print(\"A\")\n",
        "elif( s<90 and s>=80 ):\n",
        "  print(\"B\")\n",
        "elif( s<80 and s>=70 ):\n",
        "  print(\"C\")\n",
        "elif( s<70 and s>=60 ):\n",
        "  print(\"D\")\n",
        "elif( s<60 ):\n",
        "  print(\"E\")"
      ],
      "metadata": {
        "colab": {
          "base_uri": "https://localhost:8080/"
        },
        "id": "ICxYrcfPJnBo",
        "outputId": "d5f20ced-a2dd-47d5-af87-ce0dffaeac5d"
      },
      "execution_count": 22,
      "outputs": [
        {
          "output_type": "stream",
          "name": "stdout",
          "text": [
            "請輸入成績55\n",
            "E\n"
          ]
        }
      ]
    },
    {
      "cell_type": "code",
      "source": [
        "m = int(input(\"請輸入月份\"))\n",
        "if m == 3 or m == 4 or m == 5 :\n",
        "  print(m,\"月是春天\")\n",
        "elif m == 6 or m == 7 or m == 8 :\n",
        "  print(m,\"月是夏天\")\n",
        "elif m == 9 or m == 10 or m == 11 :\n",
        "  print(m,\"月是秋天\")\n",
        "elif m == 12 or m == 1 or m == 2 :\n",
        "  print(m,\"m,月是冬天\")\n",
        "else:\n",
        "  print(\"請重新輸入\")\n"
      ],
      "metadata": {
        "colab": {
          "base_uri": "https://localhost:8080/"
        },
        "id": "KP1jR2W8LYHh",
        "outputId": "757fc234-b8a2-4ad4-c029-efa4bd11b625"
      },
      "execution_count": 31,
      "outputs": [
        {
          "output_type": "stream",
          "name": "stdout",
          "text": [
            "請輸入月份7\n",
            "7 月是夏天\n"
          ]
        }
      ]
    },
    {
      "cell_type": "code",
      "source": [
        "r = int(input(\"請輸入收入\"))\n",
        "if r >= 2000000 :\n",
        "  print ( \"繳稅金額:\", r*0.3 ) \n",
        "elif r >= 1000000 and r < 2000000 :\n",
        "  print ( \"繳稅金額:\", r*0.21 )\n",
        "elif r >= 600000 and r < 1000000 :\n",
        "  print ( \"繳稅金額:\", r*0.13 )\n",
        "elif r > 300000 and r < 600000 :\n",
        "  print ( \"繳稅金額:\", r*0.06 )\n",
        "else:\n",
        "  print(\"0\")"
      ],
      "metadata": {
        "colab": {
          "base_uri": "https://localhost:8080/"
        },
        "id": "piqE-KtNNP-T",
        "outputId": "00361c3b-c8aa-4827-a946-677bcd75fa6e"
      },
      "execution_count": 35,
      "outputs": [
        {
          "output_type": "stream",
          "name": "stdout",
          "text": [
            "請輸入收入8000000\n",
            "繳稅金額: 2400000.0\n"
          ]
        }
      ]
    }
  ]
}